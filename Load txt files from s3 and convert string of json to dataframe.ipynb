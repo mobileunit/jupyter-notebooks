{
 "cells": [
  {
   "cell_type": "raw",
   "metadata": {},
   "source": [
    "!pip install boto3"
   ]
  },
  {
   "cell_type": "code",
   "execution_count": null,
   "metadata": {},
   "outputs": [],
   "source": [
    "# REMOVE CREDENTIALS BEFORE CHECK-IN TO GIT\n",
    "\n",
    "# TEST AWS-ACCOUNT \n",
    "AWS_ACCESS_KEY_ID = \"XXXXXX\"\n",
    "AWS_SECRET_ACCESS_KEY = \"XXXXXX\"\n",
    "BUCKET = \"XXXXXX\""
   ]
  },
  {
   "cell_type": "code",
   "execution_count": null,
   "metadata": {},
   "outputs": [],
   "source": [
    "import json\n",
    "\n",
    "import boto3\n",
    "import pandas as pd\n",
    "\n",
    "# Credentials from above\n",
    "\n",
    "s3 = boto3.resource(\n",
    "    \"s3\",\n",
    "    aws_access_key_id=AWS_ACCESS_KEY_ID,\n",
    "    aws_secret_access_key=AWS_SECRET_ACCESS_KEY,\n",
    ")\n",
    "\n",
    "bucket = BUCKET"
   ]
  },
  {
   "cell_type": "code",
   "execution_count": null,
   "metadata": {},
   "outputs": [],
   "source": [
    "keys = []\n",
    "\n",
    "s3bucket = s3.Bucket(bucket)\n",
    "\n",
    "for file in s3bucket.objects.all():\n",
    "\n",
    "    if \"ArticlesDev\" in file.key:\n",
    "        keys.append([file.key, str(file.last_modified)])\n",
    "\n",
    "keys"
   ]
  },
  {
   "cell_type": "code",
   "execution_count": null,
   "metadata": {},
   "outputs": [],
   "source": [
    "df = pd.DataFrame()\n",
    "\n",
    "for i, key in enumerate(keys):\n",
    "\n",
    "    if \"articles/2019/01/\" in key[0]:\n",
    "\n",
    "        try:\n",
    "            print(\"{} : {}\".format(i, key[0]))\n",
    "            obj = s3.Object(bucket, key[0])\n",
    "\n",
    "            text = obj.get()[\"Body\"].read().decode(\"utf-8\")\n",
    "\n",
    "            text = \"[\" + text.replace(\"}{\", \"},{\") + \"]\"\n",
    "\n",
    "            res = json.loads(text)\n",
    "\n",
    "            df_json = pd.DataFrame(res)\n",
    "            df_json = df_json.drop(df_json.index[[0]])\n",
    "\n",
    "            df = df.append(df_json)\n",
    "\n",
    "        except ValueError:\n",
    "\n",
    "            print(\"JSON decoding failed\")"
   ]
  },
  {
   "cell_type": "code",
   "execution_count": null,
   "metadata": {},
   "outputs": [],
   "source": [
    "df.head()"
   ]
  },
  {
   "cell_type": "code",
   "execution_count": null,
   "metadata": {},
   "outputs": [],
   "source": []
  }
 ],
 "metadata": {
  "kernelspec": {
   "display_name": "Python 3",
   "language": "python",
   "name": "python3"
  },
  "language_info": {
   "codemirror_mode": {
    "name": "ipython",
    "version": 3
   },
   "file_extension": ".py",
   "mimetype": "text/x-python",
   "name": "python",
   "nbconvert_exporter": "python",
   "pygments_lexer": "ipython3",
   "version": "3.6.6"
  }
 },
 "nbformat": 4,
 "nbformat_minor": 2
}
