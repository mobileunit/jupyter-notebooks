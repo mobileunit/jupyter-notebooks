{
 "cells": [
  {
   "cell_type": "raw",
   "metadata": {},
   "source": [
    "!pip install boto3"
   ]
  },
  {
   "cell_type": "code",
   "execution_count": null,
   "metadata": {},
   "outputs": [],
   "source": [
    "# REMOVE CREDENTIALS BEFORE CHECK-IN TO GIT\n",
    "\n",
    "# LIVE AWS-ACCOUNT : Tracking Events\n",
    "AWS_ACCESS_KEY_ID = \"XXXXXX\"\n",
    "AWS_SECRET_ACCESS_KEY = \"XXXXXX\"\n",
    "BUCKET = \"XXXXXX\"\n",
    "KEY_PREFIX = \"XXXXXX\""
   ]
  },
  {
   "cell_type": "code",
   "execution_count": null,
   "metadata": {},
   "outputs": [],
   "source": [
    "import json\n",
    "\n",
    "import boto3\n",
    "import pandas as pd\n",
    "\n",
    "# Credentials from above\n",
    "s3 = boto3.resource(\n",
    "    \"s3\",\n",
    "    aws_access_key_id=AWS_ACCESS_KEY_ID,\n",
    "    aws_secret_access_key=AWS_SECRET_ACCESS_KEY,\n",
    ")\n",
    "\n",
    "bucket = BUCKET\n",
    "key_prefix = KEY_PREFIX"
   ]
  },
  {
   "cell_type": "code",
   "execution_count": null,
   "metadata": {},
   "outputs": [],
   "source": [
    "keys = []\n",
    "\n",
    "s3bucket = s3.Bucket(bucket)\n",
    "\n",
    "for file in s3bucket.objects.all():\n",
    "\n",
    "    if key_prefix in file.key:\n",
    "        keys.append([file.key, str(file.last_modified)])\n",
    "\n",
    "keys"
   ]
  },
  {
   "cell_type": "code",
   "execution_count": null,
   "metadata": {},
   "outputs": [],
   "source": [
    "df = pd.DataFrame()\n",
    "\n",
    "for i, key in enumerate(keys):\n",
    "\n",
    "    if key_prefix in key[0]:\n",
    "\n",
    "        try:\n",
    "            print(\"{} : {}\".format(i, key[0]))\n",
    "            obj = s3.Object(bucket, key[0])\n",
    "\n",
    "            text = obj.get()[\"Body\"].read().decode(\"utf-8\")\n",
    "\n",
    "            text = \"[\" + text.replace(\"}{\", \"},{\").replace(\"}\\n{\", \"},{\") + \"]\"\n",
    "\n",
    "            res = json.loads(text)\n",
    "\n",
    "            # Flatten nested dictionary structure if present\n",
    "            df_json = pd.io.json.json_normalize(res)\n",
    "            df_json = df_json.drop(df_json.index[[0]])\n",
    "\n",
    "            df = df.append(df_json)\n",
    "\n",
    "        except ValueError:\n",
    "\n",
    "            print(\"JSON decoding failed\")\n",
    "    else:\n",
    "        print(\"Key not found!\")"
   ]
  },
  {
   "cell_type": "code",
   "execution_count": null,
   "metadata": {},
   "outputs": [],
   "source": [
    "df.head()"
   ]
  }
 ],
 "metadata": {
  "kernelspec": {
   "display_name": "Python 3",
   "language": "python",
   "name": "python3"
  },
  "language_info": {
   "codemirror_mode": {
    "name": "ipython",
    "version": 3
   },
   "file_extension": ".py",
   "mimetype": "text/x-python",
   "name": "python",
   "nbconvert_exporter": "python",
   "pygments_lexer": "ipython3",
   "version": "3.6.6"
  }
 },
 "nbformat": 4,
 "nbformat_minor": 2
}
